{
 "cells": [
  {
   "cell_type": "code",
   "execution_count": 15,
   "id": "83a086e1-e66b-4bfc-b8d5-051eb7ee11b5",
   "metadata": {},
   "outputs": [],
   "source": [
    "import networkx as nx\n",
    "import numpy as np\n",
    "import random\n",
    "import matplotlib.pyplot as plt\n",
    "import matplotlib.patches as mpatches\n",
    "\n",
    "from powerLaw_exponent import powerLaw_exponent\n",
    "from KH_model import KH_model\n",
    "from synthetic_powerLaw import synthetic_powerLaw\n",
    "\n",
    "#parameters-change these as needed\n",
    "#n--num of nodes in the graph\n",
    "#m--num of edges need to be add by each arriving node\n",
    "n = 500\n",
    "m = 3\n",
    "m_t = 0.3"
   ]
  },
  {
   "cell_type": "code",
   "execution_count": 4,
   "id": "39b3aa34-eb2b-4f5f-b78f-9cf7bd214360",
   "metadata": {},
   "outputs": [],
   "source": [
    "import itertools\n",
    "import math\n",
    "from collections import defaultdict\n",
    "\n",
    "import networkx as nx\n",
    "from networkx.utils import py_random_state\n",
    "\n",
    "# The following function is our modified Holme-Kim Model based on source code from networkx\n",
    "def degree_HK(n, m, p, seed=None):\n",
    "   \n",
    "    if m < 1 or n < m:\n",
    "        raise nx.NetworkXError(f\"NetworkXError must have m>1 and m<n, m={m},n={n}\")\n",
    "\n",
    "    if p > 1 or p < 0:\n",
    "        raise nx.NetworkXError(f\"NetworkXError p must be in [0,1], p={p}\")\n",
    "\n",
    "    # Modification 1:\n",
    "    # Start the algorithm with an initial random graph with m nodes and m edges to allow different values of m\n",
    "    G = nx.gnm_random_graph(m, m)\n",
    "    repeated_nodes = list(G.nodes())  # list of existing nodes to sample from\n",
    "    # with nodes repeated once for each adjacent edge\n",
    "    source = m  # next node is m\n",
    "    while source < n:  # Now add the other n-1 nodes\n",
    "        possible_targets = list(np.random.choice(repeated_nodes, m, replace = False))\n",
    "        # do one preferential attachment for new node\n",
    "        target = possible_targets.pop()\n",
    "        G.add_edge(source, target)\n",
    "        repeated_nodes.append(target)  # add one node to list for each new link\n",
    "        count = 1\n",
    "        while count < m:  # add m-1 more new links\n",
    "            if random.uniform(0, 1) < p:  # clustering step: add triangle\n",
    "                neighborhood = [\n",
    "                    nbr\n",
    "                    for nbr in G.neighbors(target)\n",
    "                    if not G.has_edge(source, nbr) and not nbr == source\n",
    "                ]\n",
    "                # Modification 2:\n",
    "                # In the TF step, if there is a neighbor without a link, instead of randomly choose a node, choose a neighbor weighted by its degree\n",
    "                if neighborhood:  \n",
    "                    repeated = []\n",
    "                    for neighbor in neighborhood:\n",
    "                        d = G.degree(neighbor)\n",
    "                        repeated.extend([neighbor]*d)\n",
    "                    nbr = random.choice(repeated)\n",
    "                    repeated_nodes.append(nbr)\n",
    "                    G.add_edge(source, nbr)\n",
    "                    count = count + 1\n",
    "                    continue  # go to top of while loop\n",
    "            # else do preferential attachment step if above fails\n",
    "            target = possible_targets.pop()\n",
    "            G.add_edge(source, target)\n",
    "            repeated_nodes.append(target)\n",
    "            count = count + 1\n",
    "\n",
    "        repeated_nodes.extend([source] * m)  # add source node to list m times\n",
    "        source += 1\n",
    "    return G"
   ]
  },
  {
   "cell_type": "code",
   "execution_count": 5,
   "id": "904d9502-9d3b-4769-83a9-5c4b08d58310",
   "metadata": {},
   "outputs": [],
   "source": [
    "def neighborhood_overlap(G,u,v):\n",
    "    c_uv = len(list(nx.common_neighbors(G,u,v)))\n",
    "    total = (G.degree(u)+G.degree(v)-2-c_uv)\n",
    "    score =c_uv/total\n",
    "    # print(score)\n",
    "    return score"
   ]
  },
  {
   "cell_type": "code",
   "execution_count": 6,
   "id": "dd6632d4-47b1-4115-9b2a-9d38960862c2",
   "metadata": {},
   "outputs": [],
   "source": [
    "from collections import Counter\n",
    "import bisect\n",
    "\n",
    "my_nums = {'A': 5, 'B': 2, 'C': 2, 'D': 1}\n",
    "\n",
    "def weighted_random(weighted_dict):\n",
    "    # print(weighted_dict)\n",
    "    weight_sum = []\n",
    "    sum = 0\n",
    "    for w in weighted_dict.values():\n",
    "        sum += w\n",
    "        weight_sum.append(sum)\n",
    "    # r = random.uniform(0, sum)\n",
    "    r = random.random()*sum\n",
    "    idx = bisect.bisect_right(weight_sum, r)\n",
    "    # print(r,idx)\n",
    "    return list(weighted_dict.keys())[idx-1]\n"
   ]
  },
  {
   "cell_type": "code",
   "execution_count": 7,
   "id": "eb2b25a5-2b2c-4e03-959d-3cf7187989b5",
   "metadata": {},
   "outputs": [],
   "source": [
    "# The following function is our modified Holme-Kim Model based on source code from networkx\n",
    "def overlap_HK(n, m, p, seed=None):\n",
    "\n",
    "    if m < 1 or n < m:\n",
    "        raise nx.NetworkXError(f\"NetworkXError must have m>1 and m<n, m={m},n={n}\")\n",
    "\n",
    "    if p > 1 or p < 0:\n",
    "        raise nx.NetworkXError(f\"NetworkXError p must be in [0,1], p={p}\")\n",
    "\n",
    "    # Modification 1:\n",
    "    # Start the algorithm with an initial random graph with m nodes and m edges to allow different values of m\n",
    "    G = nx.gnm_random_graph(m, m)\n",
    "    print(G)\n",
    "    repeated_nodes = list(G.nodes())  # list of existing nodes to sample from\n",
    "    # with nodes repeated once for each adjacent edge\n",
    "    source = m  # next node is m\n",
    "    while source < n:  # Now add the other n-1 nodes\n",
    "        possible_targets = list(np.random.choice(repeated_nodes, m, replace = False))\n",
    "        # do one preferential attachment for new node\n",
    "        target = possible_targets.pop()\n",
    "        G.add_edge(source, target)\n",
    "        repeated_nodes.append(target)  # add one node to list for each new link\n",
    "        count = 1\n",
    "        while count < m:  # add m-1 more new links\n",
    "            if random.uniform(0, 1) < p:  # clustering step: add triangle\n",
    "                neighborhood = [\n",
    "                    nbr\n",
    "                    for nbr in G.neighbors(target)\n",
    "                    if not G.has_edge(source, nbr) and not nbr == source\n",
    "                ]\n",
    "                # Modification 2:\n",
    "                # In the TF step, if there is a neighbor without a link, instead of randomly choose a node, choose a neighbor weighted by neighborhood overlap\n",
    "                if neighborhood:\n",
    "                    overlap_dict = {}\n",
    "                    for neighbor in neighborhood:\n",
    "                        #compute the neighborhood overlap score and store it in the dictionary\n",
    "                        overlap_dict[neighbor] = neighborhood_overlap(G,target,neighbor)\n",
    "                    \n",
    "                    overlap_dict=dict(sorted(overlap_dict.items(), key=lambda item: item[1]))\n",
    "                    nbr = weighted_random(overlap_dict)\n",
    "                    repeated_nodes.append(nbr)\n",
    "                    G.add_edge(source, nbr)\n",
    "                    count = count + 1\n",
    "                    continue  # go to top of while loop\n",
    "            # else do preferential attachment step if above fails\n",
    "            target = possible_targets.pop()\n",
    "            G.add_edge(source, target)\n",
    "            repeated_nodes.append(target)\n",
    "            count = count + 1\n",
    "\n",
    "        repeated_nodes.extend([source] * m)  # add source node to list m times\n",
    "        source += 1\n",
    "    return G"
   ]
  },
  {
   "cell_type": "code",
   "execution_count": 8,
   "id": "ff9ea7ba-a813-4e8f-bd42-994d7f07e47c",
   "metadata": {},
   "outputs": [
    {
     "name": "stdout",
     "output_type": "stream",
     "text": [
      "Graph with 3 nodes and 3 edges\n",
      "Graph with 3 nodes and 3 edges\n",
      "Graph with 3 nodes and 3 edges\n",
      "Graph with 3 nodes and 3 edges\n",
      "Graph with 3 nodes and 3 edges\n",
      "Graph with 3 nodes and 3 edges\n",
      "Graph with 3 nodes and 3 edges\n",
      "Graph with 3 nodes and 3 edges\n",
      "Graph with 3 nodes and 3 edges\n",
      "Graph with 3 nodes and 3 edges\n",
      "Graph with 3 nodes and 3 edges\n",
      "Graph with 3 nodes and 3 edges\n",
      "Graph with 3 nodes and 3 edges\n",
      "Graph with 3 nodes and 3 edges\n",
      "Graph with 3 nodes and 3 edges\n",
      "Graph with 3 nodes and 3 edges\n",
      "Graph with 3 nodes and 3 edges\n",
      "Graph with 3 nodes and 3 edges\n",
      "Graph with 3 nodes and 3 edges\n",
      "Graph with 3 nodes and 3 edges\n",
      "Graph with 3 nodes and 3 edges\n",
      "Graph with 3 nodes and 3 edges\n",
      "Graph with 3 nodes and 3 edges\n",
      "Graph with 3 nodes and 3 edges\n",
      "Graph with 3 nodes and 3 edges\n",
      "Graph with 3 nodes and 3 edges\n",
      "Graph with 3 nodes and 3 edges\n",
      "Graph with 3 nodes and 3 edges\n",
      "Graph with 3 nodes and 3 edges\n",
      "Graph with 3 nodes and 3 edges\n",
      "Graph with 3 nodes and 3 edges\n",
      "Graph with 3 nodes and 3 edges\n",
      "Graph with 3 nodes and 3 edges\n",
      "Graph with 3 nodes and 3 edges\n",
      "Graph with 3 nodes and 3 edges\n",
      "Graph with 3 nodes and 3 edges\n",
      "Graph with 3 nodes and 3 edges\n",
      "Graph with 3 nodes and 3 edges\n",
      "Graph with 3 nodes and 3 edges\n",
      "Graph with 3 nodes and 3 edges\n",
      "Graph with 3 nodes and 3 edges\n",
      "Graph with 3 nodes and 3 edges\n",
      "Graph with 3 nodes and 3 edges\n",
      "Graph with 3 nodes and 3 edges\n",
      "Graph with 3 nodes and 3 edges\n",
      "Graph with 3 nodes and 3 edges\n",
      "Graph with 3 nodes and 3 edges\n",
      "Graph with 3 nodes and 3 edges\n",
      "Graph with 3 nodes and 3 edges\n",
      "Graph with 3 nodes and 3 edges\n",
      "Graph with 3 nodes and 3 edges\n",
      "Graph with 3 nodes and 3 edges\n",
      "Graph with 3 nodes and 3 edges\n",
      "Graph with 3 nodes and 3 edges\n",
      "Graph with 3 nodes and 3 edges\n",
      "Graph with 3 nodes and 3 edges\n",
      "Graph with 3 nodes and 3 edges\n",
      "Graph with 3 nodes and 3 edges\n",
      "Graph with 3 nodes and 3 edges\n",
      "Graph with 3 nodes and 3 edges\n",
      "Graph with 3 nodes and 3 edges\n",
      "Graph with 3 nodes and 3 edges\n",
      "Graph with 3 nodes and 3 edges\n"
     ]
    }
   ],
   "source": [
    "### This cell is for comparing different statistics with various P_t and N\n",
    "m_t = [0,0.3,0.6,0.9,1.2,1.5,1.8]\n",
    "P_t = [p/2 for p in m_t]\n",
    "N = [100,200,500,1000,2000,4000,6000,8000,10000]\n",
    "\n",
    "cc_hk=[]\n",
    "cc_degree=[]\n",
    "cc_overlap = []\n",
    "\n",
    "for p in P_t:\n",
    "    hk=[]\n",
    "    degree=[]\n",
    "    overlap=[]\n",
    "    for n in N:\n",
    "        G1 = nx.powerlaw_cluster_graph(n, m, p)\n",
    "        G2 = degree_HK(n, m, p)\n",
    "        G3 = overlap_HK(n,m,p)\n",
    "        hk.append(nx.average_clustering(G1))\n",
    "        degree.append(nx.average_clustering(G2))\n",
    "        overlap.append(nx.average_clustering(G3))\n",
    "    cc_hk.append(hk)\n",
    "    cc_degree.append(degree)\n",
    "    cc_overlap.append(overlap)"
   ]
  },
  {
   "cell_type": "code",
   "execution_count": 18,
   "id": "c9983d54-9896-4d0c-b8e2-6235bcc70bc4",
   "metadata": {},
   "outputs": [
    {
     "data": {
      "text/plain": [
       "Text(0, 0.5, 'Clustering Coefficient')"
      ]
     },
     "execution_count": 18,
     "metadata": {},
     "output_type": "execute_result"
    },
    {
     "data": {
      "image/png": "[encoded data removed]",
      "text/plain": [
       "<Figure size 432x288 with 1 Axes>"
      ]
     },
     "metadata": {
      "needs_background": "light"
     },
     "output_type": "display_data"
    }
   ],
   "source": [
    "plt.plot(N, cc_hk[0], 'o', color = 'blue', markersize = 5)\n",
    "plt.plot(N, cc_degree[0], 'o', color = 'orange', markersize = 5)\n",
    "# plt.plot(N, cc_overlap[0], 'o', color = 'green', markersize = 5)\n",
    "\n",
    "plt.plot(N, cc_hk[1], 'x', color = 'blue' , markersize = 5)\n",
    "plt.plot(N, cc_degree[1], 'x', color = 'orange', markersize = 5)\n",
    "# plt.plot(N, cc_overlap[1], 'x', color = 'green', markersize = 5)\n",
    "\n",
    "plt.plot(N, cc_hk[2], '^', color = 'blue' , markersize = 5)\n",
    "plt.plot(N, cc_degree[2], '^', color = 'orange', markersize = 5)\n",
    "# plt.plot(N, cc_overlap[2], '^', color = 'green', markersize = 5)\n",
    "\n",
    "plt.plot(N, cc_hk[3], 's', color = 'blue' , markersize = 5)\n",
    "plt.plot(N, cc_degree[3], 's', color = 'orange', markersize = 5)\n",
    "# plt.plot(N, cc_overlap[3], 's', color = 'green', markersize = 5)\n",
    "\n",
    "plt.plot(N, cc_hk[4], '+', color = 'blue' , markersize = 5)\n",
    "plt.plot(N, cc_degree[4], '+', color = 'orange', markersize = 5)\n",
    "# plt.plot(N, cc_overlap[4], '+', color = 'green', markersize = 5)\n",
    "\n",
    "# plt.legend(loc='upper left')\n",
    "orange_patch = mpatches.Patch(color='orange', label='Modified HK Model by Node Degree')\n",
    "blue_patch = mpatches.Patch(color='blue', label='HK Model')\n",
    "plt.legend(handles=[orange_patch,blue_patch])\n",
    "plt.title(\"Clustering Coefficient againt N\", loc=\"center\")\n",
    "plt.xlabel(\"N\")\n",
    "plt.ylabel(\"Clustering Coefficient\")"
   ]
  },
  {
   "cell_type": "code",
   "execution_count": 37,
   "id": "b9ff7a34-23c9-4f1b-b57c-659e85d7ca76",
   "metadata": {},
   "outputs": [
    {
     "data": {
      "text/plain": [
       "Text(0, 0.5, 'Clustering Coefficient')"
      ]
     },
     "execution_count": 37,
     "metadata": {},
     "output_type": "execute_result"
    },
    {
     "data": {
      "image/png": "[encoded data removed]",
      "text/plain": [
       "<Figure size 432x288 with 1 Axes>"
      ]
     },
     "metadata": {
      "needs_background": "light"
     },
     "output_type": "display_data"
    }
   ],
   "source": [
    "plt.plot(N, cc_hk[0], 'o', color = 'blue', markersize = 5)\n",
    "plt.plot(N, cc_degree[0], 'o', color = 'orange', markersize = 5)\n",
    "plt.plot(N, cc_overlap[0], 'o', color = 'red', markersize = 5)\n",
    "\n",
    "plt.plot(N, cc_hk[1], 'x', color = 'blue' , markersize = 5)\n",
    "plt.plot(N, cc_degree[1], 'x', color = 'orange', markersize = 5)\n",
    "plt.plot(N, cc_overlap[1], 'x', color = 'red', markersize = 5)\n",
    "\n",
    "plt.plot(N, cc_hk[2], '^', color = 'blue' , markersize = 5)\n",
    "plt.plot(N, cc_degree[2], '^', color = 'orange', markersize = 5)\n",
    "plt.plot(N, cc_overlap[2], '^', color = 'red', markersize = 5)\n",
    "\n",
    "plt.plot(N, cc_hk[3], 's', color = 'blue' , markersize = 5)\n",
    "plt.plot(N, cc_degree[3], 's', color = 'orange', markersize = 5)\n",
    "plt.plot(N, cc_overlap[3], 's', color = 'red', markersize = 5)\n",
    "\n",
    "plt.plot(N, cc_hk[4], '+', color = 'blue' , markersize = 5)\n",
    "plt.plot(N, cc_degree[4], '+', color = 'orange', markersize = 5)\n",
    "plt.plot(N, cc_overlap[4], '+', color = 'red', markersize = 5)\n",
    "# plt.legend(loc='upper left')\n",
    "\n",
    "red_patch = mpatches.Patch(color='red', label='Modified HK Model by Neighborhood Overlap')\n",
    "blue_patch = mpatches.Patch(color='blue', label='HK Model')\n",
    "orange_patch = mpatches.Patch(color='orange', label='Modified HK Model by Node Degree')\n",
    "\n",
    "plt.legend(handles=[red_patch,blue_patch,orange_patch])\n",
    "plt.title(\"Clustering Coefficient againt N\", loc=\"center\")\n",
    "plt.xlabel(\"N\")\n",
    "plt.ylabel(\"Clustering Coefficient\")"
   ]
  },
  {
   "cell_type": "code",
   "execution_count": 38,
   "id": "8d3f2bea-0088-49c0-b25b-47af77fa1269",
   "metadata": {},
   "outputs": [
    {
     "name": "stdout",
     "output_type": "stream",
     "text": [
      "[0.01902304 0.08655779 0.17138866 0.25782134 0.33458087 0.42806914\n",
      " 0.51464509]\n",
      "[0.01708212 0.09045886 0.17712407 0.31796742 0.42362932 0.55336183\n",
      " 0.69765515]\n",
      "[0.02092031 0.10625607 0.17728298 0.247494   0.33789601 0.42391124\n",
      " 0.54077207]\n"
     ]
    },
    {
     "data": {
      "image/png": "[encoded data removed]",
      "text/plain": [
       "<Figure size 432x288 with 1 Axes>"
      ]
     },
     "metadata": {
      "needs_background": "light"
     },
     "output_type": "display_data"
    }
   ],
   "source": [
    "# plot cc against p_t \n",
    "# we use n=4000,m=3 to check the relationship\n",
    "plt.plot(P_t, np.array(cc_hk)[:,4], 'o', label='Holme-Kim Model' )\n",
    "plt.plot(P_t, np.array(cc_degree)[:,4], 'x', label='Modified HK Model by Node Degree' )\n",
    "plt.plot(P_t, np.array(cc_overlap)[:,4], 's', color = 'red',label='Modified HK Model by Neighborhood Overlap' )\n",
    "# ax = plt.gca()\n",
    "# ax.set_xscale('log')\n",
    "# ax.set_yscale('log')\n",
    "\n",
    "plt.legend(loc='upper left')\n",
    "plt.title(\"Clustering Coefficient with different P_t\", loc=\"center\")\n",
    "plt.xlabel(\"P_t\")\n",
    "plt.ylabel(\"Clustering Coefficient\")\n",
    "\n",
    "print(np.array(cc_hk)[:,4])\n",
    "print(np.array(cc_degree)[:,4])\n",
    "print(np.array(cc_overlap)[:,4])"
   ]
  },
  {
   "cell_type": "code",
   "execution_count": 41,
   "id": "626df34f-8627-49bb-b84d-317419452db6",
   "metadata": {},
   "outputs": [
    {
     "name": "stdout",
     "output_type": "stream",
     "text": [
      "Graph with 3 nodes and 3 edges\n"
     ]
    }
   ],
   "source": [
    "#save Graph of each model, n=400,m=3,p=.6\n",
    "G1 = nx.powerlaw_cluster_graph(100, 3, 0.6)\n",
    "G2 = degree_HK(100, 3, 0.6)\n",
    "G3 = overlap_HK(100, 3, 0.6)\n",
    "nx.write_gexf(G1,\"HK1.gexf\")\n",
    "nx.write_gexf(G2,\"HK_degree1.gexf\")\n",
    "nx.write_gexf(G3,\"HK_neighbor1.gexf\")"
   ]
  },
  {
   "cell_type": "code",
   "execution_count": 36,
   "id": "3b948b70-5688-444b-9f5c-1463c647d235",
   "metadata": {},
   "outputs": [
    {
     "name": "stdout",
     "output_type": "stream",
     "text": [
      "Graph with 3 nodes and 3 edges\n",
      "Graph with 3 nodes and 3 edges\n",
      "Graph with 3 nodes and 3 edges\n",
      "Graph with 3 nodes and 3 edges\n",
      "Graph with 3 nodes and 3 edges\n",
      "Graph with 3 nodes and 3 edges\n",
      "2.7270963817133698\n",
      "2.2832185683457698\n",
      "2.7433048223482532\n"
     ]
    }
   ],
   "source": [
    "### estimate alpha using the above graphs\n",
    "alpha_hk=[]\n",
    "alpha_degree=[]\n",
    "alpha_overlap=[]\n",
    "\n",
    "for i in range(5):#repeat 5 times, calculate mean of extimated alpha\n",
    "    G1 = nx.powerlaw_cluster_graph(4000, 3, 0.6)\n",
    "    G2 = degree_HK(4000, 3, 0.6)\n",
    "    G3 = overlap_HK(4000, 3, 0.6)\n",
    "    G_BA = nx.barabasi_albert_graph(4000, 3)\n",
    "    \n",
    "    degrees1 = list()\n",
    "    for d in G1.degree():\n",
    "        degrees1.append(d[1])\n",
    "    alpha_hk.append(powerLaw_exponent(degrees1, kmin=1))\n",
    "    \n",
    "    degrees2 = list()\n",
    "    for d in G2.degree():\n",
    "        degrees2.append(d[1])\n",
    "    alpha_degree.append(powerLaw_exponent(degrees2, kmin=1))\n",
    "    \n",
    "    degrees3 = list()\n",
    "    for d in G3.degree():\n",
    "        degrees3.append(d[1])\n",
    "    alpha_overlap.append(powerLaw_exponent(degrees3, kmin=1))\n",
    "print(sum(alpha_hk)/5)\n",
    "print(sum(alpha_degree)/5)\n",
    "print(sum(alpha_overlap)/5)"
   ]
  },
  {
   "cell_type": "code",
   "execution_count": 43,
   "id": "aa658c6a-2d20-4081-94bb-6c34cc408309",
   "metadata": {},
   "outputs": [
    {
     "name": "stdout",
     "output_type": "stream",
     "text": [
      "Graph with 3 nodes and 3 edges\n"
     ]
    },
    {
     "data": {
      "text/plain": [
       "Text(0, 0.5, 'Frequency')"
      ]
     },
     "execution_count": 43,
     "metadata": {},
     "output_type": "execute_result"
    },
    {
     "data": {
      "image/png": "[encoded data removed]",
      "text/plain": [
       "<Figure size 432x288 with 1 Axes>"
      ]
     },
     "metadata": {
      "needs_background": "light"
     },
     "output_type": "display_data"
    }
   ],
   "source": [
    "G_test = degree_HK(4000, 3, 0.6)\n",
    "G_test2 = overlap_HK(4000, 3, 0.6)\n",
    "degrees = list(G_test.degree())\n",
    "degrees2 = list(G_test2.degree())\n",
    "d,counts = np.unique(degrees, return_counts = True)\n",
    "d2,counts2 = np.unique(degrees2, return_counts = True)\n",
    "\n",
    "# plot degrees against their proportions in the dataset\n",
    "plt.plot(d,counts, 'o', label='HK_degree' )\n",
    "plt.plot(d2,counts2, 'o',color = \"orange\", label='HK_overlap' )\n",
    "ax = plt.gca()\n",
    "ax.set_xscale('log')\n",
    "ax.set_yscale('log')\n",
    "\n",
    "plt.legend(loc='upper right')\n",
    "plt.title(\"Degree Distributions of Power Law on a log-log scale\", loc=\"center\")\n",
    "plt.xlabel(\"Node Degree\")\n",
    "plt.ylabel(\"Frequency\")"
   ]
  },
  {
   "cell_type": "code",
   "execution_count": 120,
   "id": "fa856777-8585-4642-a522-900afe6710b4",
   "metadata": {},
   "outputs": [
    {
     "name": "stdout",
     "output_type": "stream",
     "text": [
      "alpha = 1 - m is: 2.707863531156507\n"
     ]
    },
    {
     "name": "stderr",
     "output_type": "stream",
     "text": [
      "/var/folders/4t/yyym5sgn6lxbt5mmh_67x2tw0000gn/T/ipykernel_71560/329576348.py:31: FutureWarning: `rcond` parameter will change to the default of machine precision times ``max(M, N)`` where M and N are the input matrix dimensions.\n",
      "To use the future default and silence this warning we advise to pass `rcond=None`, to keep using the old, explicitly pass `rcond=-1`.\n",
      "  m, c = np.linalg.lstsq(X, culmulative_density)[0]\n"
     ]
    }
   ],
   "source": [
    "kmin=1\n",
    "degrees = list()\n",
    "for d in G_test.degree():\n",
    "    degrees.append(d[1])\n",
    "# print(degrees)\n",
    "samples_set = list(set(degrees))\n",
    "samples_set.sort()\n",
    "\n",
    "samples_freq = [degrees.count(sample)  for sample in samples_set]\n",
    "samples_proportion = [degrees.count(sample) / len(degrees) for sample in samples_set]\n",
    "\n",
    "# # Calculate y = log(P(X >= k))\n",
    "# proportions = (counts/10000).tolist()\n",
    "# kmin=1\n",
    "\n",
    "culmulative_density = samples_proportion[:] # copy by value, not reference\n",
    "culmulative_density.reverse()\n",
    "\n",
    "import itertools\n",
    "culmulative_density = list(itertools.accumulate(culmulative_density))\n",
    "culmulative_density.reverse()\n",
    "\n",
    "culmulative_density = np.log(culmulative_density)\n",
    "\n",
    "# Find x = log(k / kmin)\n",
    "X = np.ones((len(samples_set), 2))\n",
    "for i in range(len(samples_set)):\n",
    "    X[i][0] = np.log(samples_set[i] / kmin)\n",
    "\n",
    "# solve least square problem\n",
    "m, c = np.linalg.lstsq(X, culmulative_density)[0]\n",
    "\n",
    "# report statistics\n",
    "print(\"alpha = 1 - m is: \" + str(1-m))"
   ]
  },
  {
   "cell_type": "code",
   "execution_count": null,
   "id": "ffdadfa3-7563-42d5-b04c-87ed6aae8b01",
   "metadata": {},
   "outputs": [],
   "source": []
  }
 ],
 "metadata": {
  "kernelspec": {
   "display_name": "Python 3 (ipykernel)",
   "language": "python",
   "name": "python3"
  },
  "language_info": {
   "codemirror_mode": {
    "name": "ipython",
    "version": 3
   },
   "file_extension": ".py",
   "mimetype": "text/x-python",
   "name": "python",
   "nbconvert_exporter": "python",
   "pygments_lexer": "ipython3",
   "version": "3.9.10"
  }
 },
 "nbformat": 4,
 "nbformat_minor": 5
}
